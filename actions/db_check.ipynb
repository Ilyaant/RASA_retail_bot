{
 "cells": [
  {
   "cell_type": "code",
   "execution_count": 1,
   "metadata": {},
   "outputs": [
    {
     "name": "stdout",
     "output_type": "stream",
     "text": [
      "('1001-01-01', '00:00:00', 'John', '88005553535')\n"
     ]
    }
   ],
   "source": [
    "import sqlite3\n",
    "con = sqlite3.connect('clients.db')\n",
    "cur = con.cursor()\n",
    "for row in cur.execute(\"SELECT * FROM clients\"):\n",
    "    print(row)\n",
    "con.close()"
   ]
  },
  {
   "cell_type": "code",
   "execution_count": 3,
   "metadata": {},
   "outputs": [
    {
     "name": "stdout",
     "output_type": "stream",
     "text": [
      "('2006-01-05', 123456, 'example@rasa.com', 'blue', 9, 'returning')\n",
      "('2021-01-05', 123457, 'me@rasa.com', 'black', 10, 'order pending')\n",
      "('2021-01-05', 123458, 'me@gmail.com', 'gray', 11, 'delivered')\n"
     ]
    }
   ],
   "source": [
    "con = sqlite3.connect('example.db')\n",
    "cur = con.cursor()\n",
    "for row in cur.execute(\"SELECT * FROM orders\"):\n",
    "    print(row)\n",
    "con.close()"
   ]
  },
  {
   "cell_type": "code",
   "execution_count": 4,
   "metadata": {},
   "outputs": [
    {
     "name": "stdout",
     "output_type": "stream",
     "text": [
      "(7, 'blue')\n",
      "(8, 'blue')\n",
      "(9, 'blue')\n",
      "(10, 'blue')\n",
      "(11, 'blue')\n",
      "(12, 'blue')\n",
      "(7, 'black')\n",
      "(8, 'black')\n",
      "(9, 'black')\n",
      "(10, 'black')\n"
     ]
    }
   ],
   "source": [
    "con = sqlite3.connect('example.db')\n",
    "cur = con.cursor()\n",
    "for row in cur.execute(\"SELECT * FROM inventory\"):\n",
    "    print(row)\n",
    "con.close()"
   ]
  }
 ],
 "metadata": {
  "kernelspec": {
   "display_name": "Python 3.9.4 64-bit",
   "language": "python",
   "name": "python3"
  },
  "language_info": {
   "codemirror_mode": {
    "name": "ipython",
    "version": 3
   },
   "file_extension": ".py",
   "mimetype": "text/x-python",
   "name": "python",
   "nbconvert_exporter": "python",
   "pygments_lexer": "ipython3",
   "version": "3.9.4"
  },
  "orig_nbformat": 4,
  "vscode": {
   "interpreter": {
    "hash": "f93075eebf97bc5e18c38d1a54e461de353c7365fd9def5e44782928585336f0"
   }
  }
 },
 "nbformat": 4,
 "nbformat_minor": 2
}
